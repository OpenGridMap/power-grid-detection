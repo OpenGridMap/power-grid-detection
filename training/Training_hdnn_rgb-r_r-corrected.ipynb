{
 "cells": [
  {
   "cell_type": "code",
   "execution_count": 1,
   "metadata": {
    "collapsed": false
   },
   "outputs": [
    {
     "name": "stderr",
     "output_type": "stream",
     "text": [
      "Using Theano backend.\n",
      "DEBUG: nvcc STDOUT nvcc warning : The 'compute_20', 'sm_20', and 'sm_21' architectures are deprecated, and may be removed in a future release (Use -Wno-deprecated-gpu-targets to suppress warning).\n",
      "mod.cu\n",
      "   Creating library C:/Users/Tanuj/AppData/Local/Theano/compiledir_Windows-10-10.0.14393-Intel64_Family_6_Model_60_Stepping_3_GenuineIntel-2.7.12-64/tmp9x13bn/265abc51f7c376c224983485238ff1a5.lib and object C:/Users/Tanuj/AppData/Local/Theano/compiledir_Windows-10-10.0.14393-Intel64_Family_6_Model_60_Stepping_3_GenuineIntel-2.7.12-64/tmp9x13bn/265abc51f7c376c224983485238ff1a5.exp\n",
      "\n",
      "Using gpu device 0: GeForce GTX 970M (CNMeM is enabled with initial size: 80.0% of memory, cuDNN 5110)\n",
      "C:\\Users\\Tanuj\\Anaconda2\\lib\\site-packages\\theano\\sandbox\\cuda\\__init__.py:600: UserWarning: Your cuDNN version is more recent than the one Theano officially supports. If you see any problems, try updating Theano or downgrading cuDNN to version 5.\n",
      "  warnings.warn(warn)\n"
     ]
    }
   ],
   "source": [
    "from __future__ import print_function\n",
    "\n",
    "import os\n",
    "import sys\n",
    "import numpy as np\n",
    "\n",
    "from keras.optimizers import SGD, Nadam, RMSprop\n",
    "from keras.callbacks import CSVLogger, ModelCheckpoint\n",
    "from keras.regularizers import l1, l2\n",
    "\n",
    "sys.path.append(os.path.join(os.getcwd(), os.pardir))\n",
    "\n",
    "import config\n",
    "\n",
    "from utils.dataset.data_generator import DataGenerator\n",
    "from models.hdnn import hdnn"
   ]
  },
  {
   "cell_type": "code",
   "execution_count": 2,
   "metadata": {
    "collapsed": false
   },
   "outputs": [],
   "source": [
    "lr=0.005\n",
    "l1 = 0.00001\n",
    "l2 = 0.00001\n",
    "dropout = 0.5\n",
    "n_epochs=100\n",
    "batch_size=32\n",
    "input_shape=(140, 140, 3)\n",
    "\n",
    "name = 'hdnn_relu_140_rgb_corrected_lr_%f_sgd_he_normal__l1_%f_l2_%f_dropout_%f_r' % (lr, l1, l2, dropout)"
   ]
  },
  {
   "cell_type": "code",
   "execution_count": 3,
   "metadata": {
    "collapsed": false
   },
   "outputs": [
    {
     "name": "stdout",
     "output_type": "stream",
     "text": [
      "loading model...\n",
      "Compiling conv2d layer: stage 1 block 1...\n",
      "Compiling conv2d layer: stage 2 block 1...\n",
      "Compiling conv2d layer: stage 3 block 1...\n",
      "Creating hybrid block with 3 conv2d blocks: stage 4\n",
      "Compiling conv2d layer: stage 4 block 1...\n",
      "Compiling conv2d layer: stage 4 block 2...\n",
      "Compiling conv2d layer: stage 4 block 3...\n",
      "Merging hybrid blocks : stage 4\n",
      "____________________________________________________________________________________________________\n",
      "Layer (type)                     Output Shape          Param #     Connected to                     \n",
      "====================================================================================================\n",
      "input_1 (InputLayer)             (None, 140, 140, 3)   0                                            \n",
      "____________________________________________________________________________________________________\n",
      "C1_1 (Convolution2D)             (None, 134, 134, 84)  12432       input_1[0][0]                    \n",
      "____________________________________________________________________________________________________\n",
      "activation_1 (Activation)        (None, 134, 134, 84)  0           C1_1[0][0]                       \n",
      "____________________________________________________________________________________________________\n",
      "M1_1 (MaxPooling2D)              (None, 67, 67, 84)    0           activation_1[0][0]               \n",
      "____________________________________________________________________________________________________\n",
      "C2_1 (Convolution2D)             (None, 64, 64, 84)    112980      M1_1[0][0]                       \n",
      "____________________________________________________________________________________________________\n",
      "activation_2 (Activation)        (None, 64, 64, 84)    0           C2_1[0][0]                       \n",
      "____________________________________________________________________________________________________\n",
      "M2_1 (MaxPooling2D)              (None, 32, 32, 84)    0           activation_2[0][0]               \n",
      "____________________________________________________________________________________________________\n",
      "C3_1 (Convolution2D)             (None, 29, 29, 54)    72630       M2_1[0][0]                       \n",
      "____________________________________________________________________________________________________\n",
      "activation_3 (Activation)        (None, 29, 29, 54)    0           C3_1[0][0]                       \n",
      "____________________________________________________________________________________________________\n",
      "M3_1 (MaxPooling2D)              (None, 14, 14, 54)    0           activation_3[0][0]               \n",
      "____________________________________________________________________________________________________\n",
      "C4_1 (Convolution2D)             (None, 6, 6, 54)      46710       M3_1[0][0]                       \n",
      "____________________________________________________________________________________________________\n",
      "C4_2 (Convolution2D)             (None, 6, 6, 20)      17300       M3_1[0][0]                       \n",
      "____________________________________________________________________________________________________\n",
      "C4_3 (Convolution2D)             (None, 5, 5, 10)      19450       M3_1[0][0]                       \n",
      "____________________________________________________________________________________________________\n",
      "activation_4 (Activation)        (None, 6, 6, 54)      0           C4_1[0][0]                       \n",
      "____________________________________________________________________________________________________\n",
      "activation_5 (Activation)        (None, 6, 6, 20)      0           C4_2[0][0]                       \n",
      "____________________________________________________________________________________________________\n",
      "activation_6 (Activation)        (None, 5, 5, 10)      0           C4_3[0][0]                       \n",
      "____________________________________________________________________________________________________\n",
      "M4_1 (MaxPooling2D)              (None, 3, 3, 54)      0           activation_4[0][0]               \n",
      "____________________________________________________________________________________________________\n",
      "M4_2 (MaxPooling2D)              (None, 3, 3, 20)      0           activation_5[0][0]               \n",
      "____________________________________________________________________________________________________\n",
      "M4_3 (MaxPooling2D)              (None, 3, 3, 10)      0           activation_6[0][0]               \n",
      "____________________________________________________________________________________________________\n",
      "merge_1 (Merge)                  (None, 3, 3, 84)      0           M4_1[0][0]                       \n",
      "                                                                   M4_2[0][0]                       \n",
      "                                                                   M4_3[0][0]                       \n",
      "____________________________________________________________________________________________________\n",
      "flatten_1 (Flatten)              (None, 756)           0           merge_1[0][0]                    \n",
      "____________________________________________________________________________________________________\n",
      "dense_1 (Dense)                  (None, 300)           227100      flatten_1[0][0]                  \n",
      "____________________________________________________________________________________________________\n",
      "dense_2 (Dense)                  (None, 2)             602         dense_1[0][0]                    \n",
      "____________________________________________________________________________________________________\n",
      "activation_7 (Activation)        (None, 2)             0           dense_2[0][0]                    \n",
      "====================================================================================================\n",
      "Total params: 509,204\n",
      "Trainable params: 509,204\n",
      "Non-trainable params: 0\n",
      "____________________________________________________________________________________________________\n",
      "compiling model...\n",
      "done.\n"
     ]
    }
   ],
   "source": [
    "print('loading model...')\n",
    "# model = cnn(input_shape=input_shape, init='he_normal')\n",
    "model = hdnn(input_shape=input_shape, activation_fn='relu', init='he_normal', l1=l1, l2=l2)\n",
    "model.summary()\n",
    "\n",
    "optimizer = SGD(lr=lr, clipnorm=4., nesterov=True)\n",
    "# optimizer = Nadam(lr=lr)\n",
    "# optimizer = RMSprop(lr=lr)\n",
    "\n",
    "print('compiling model...')\n",
    "model.compile(optimizer=optimizer, loss='binary_crossentropy', metrics=['accuracy'])\n",
    "print('done.')\n",
    "\n",
    "csv_logger = CSVLogger('%s_training.log' % name, append=True)\n",
    "best_model_checkpointer = ModelCheckpoint(filepath=(\"./%s_training_weights_best.hdf5\" % name), verbose=1,\n",
    "                                          save_best_only=True)\n",
    "\n",
    "current_model_checkpointer = ModelCheckpoint(filepath=(\"./%s_training_weights_current.hdf5\" % name), verbose=0)"
   ]
  },
  {
   "cell_type": "code",
   "execution_count": 4,
   "metadata": {
    "collapsed": false
   },
   "outputs": [
    {
     "name": "stdout",
     "output_type": "stream",
     "text": [
      "Initializing data generators...\n",
      "done.\n"
     ]
    }
   ],
   "source": [
    "print('Initializing data generators...')\n",
    "train_set_file = config.corrected_train_data_file\n",
    "validation_set_file = config.corrected_validation_data_file\n",
    "test_set_file = config.corrected_test_data_file\n",
    "\n",
    "train_data_gen = DataGenerator(dataset_file=train_set_file, batch_size=batch_size)\n",
    "validation_data_gen = DataGenerator(dataset_file=validation_set_file, batch_size=batch_size)\n",
    "test_data_gen = DataGenerator(dataset_file=test_set_file, batch_size=batch_size)\n",
    "print('done.')"
   ]
  },
  {
   "cell_type": "code",
   "execution_count": null,
   "metadata": {
    "collapsed": false,
    "scrolled": false
   },
   "outputs": [
    {
     "name": "stdout",
     "output_type": "stream",
     "text": [
      "Fitting model...\n"
     ]
    },
    {
     "name": "stderr",
     "output_type": "stream",
     "text": [
      "DEBUG: nvcc STDOUT mod.cu\n",
      "   Creating library C:/Users/Tanuj/AppData/Local/Theano/compiledir_Windows-10-10.0.14393-Intel64_Family_6_Model_60_Stepping_3_GenuineIntel-2.7.12-64/tmpsik4vu/5d8a7bab200dc8090d4573cde3b5cd46.lib and object C:/Users/Tanuj/AppData/Local/Theano/compiledir_Windows-10-10.0.14393-Intel64_Family_6_Model_60_Stepping_3_GenuineIntel-2.7.12-64/tmpsik4vu/5d8a7bab200dc8090d4573cde3b5cd46.exp\n",
      "\n",
      "DEBUG: nvcc STDOUT mod.cu\n",
      "   Creating library C:/Users/Tanuj/AppData/Local/Theano/compiledir_Windows-10-10.0.14393-Intel64_Family_6_Model_60_Stepping_3_GenuineIntel-2.7.12-64/tmpykv5_x/231730f5ff4cdd4403902aa79e1ec083.lib and object C:/Users/Tanuj/AppData/Local/Theano/compiledir_Windows-10-10.0.14393-Intel64_Family_6_Model_60_Stepping_3_GenuineIntel-2.7.12-64/tmpykv5_x/231730f5ff4cdd4403902aa79e1ec083.exp\n",
      "\n"
     ]
    },
    {
     "name": "stdout",
     "output_type": "stream",
     "text": [
      "Epoch 1/100\n",
      " 5856/10496 [===============>..............] - ETA: 49s - loss: 0.7030 - acc: 0.6557"
     ]
    }
   ],
   "source": [
    "print('Fitting model...')\n",
    "history = model.fit_generator(train_data_gen,\n",
    "                              nb_epoch=n_epochs,\n",
    "                              samples_per_epoch=train_data_gen.n_batches * batch_size,\n",
    "                              validation_data=validation_data_gen,\n",
    "                              nb_val_samples=validation_data_gen.n_samples,\n",
    "                              verbose=1,\n",
    "                              callbacks=[csv_logger, best_model_checkpointer, current_model_checkpointer],\n",
    "                              nb_worker=2)\n",
    "print('done.')"
   ]
  },
  {
   "cell_type": "code",
   "execution_count": null,
   "metadata": {
    "collapsed": false
   },
   "outputs": [],
   "source": [
    "print('Evaluating model...')\n",
    "score = model.evaluate_generator(test_data_gen, val_samples=test_data_gen.n_samples)\n",
    "print('done.')\n",
    "\n",
    "print('Test score:', score[0])\n",
    "print('Test accuracy:', score[1])"
   ]
  },
  {
   "cell_type": "code",
   "execution_count": null,
   "metadata": {
    "collapsed": true
   },
   "outputs": [],
   "source": []
  },
  {
   "cell_type": "code",
   "execution_count": null,
   "metadata": {
    "collapsed": true
   },
   "outputs": [],
   "source": []
  },
  {
   "cell_type": "code",
   "execution_count": null,
   "metadata": {
    "collapsed": true
   },
   "outputs": [],
   "source": []
  }
 ],
 "metadata": {
  "anaconda-cloud": {},
  "kernelspec": {
   "display_name": "Python [Root]",
   "language": "python",
   "name": "Python [Root]"
  },
  "language_info": {
   "codemirror_mode": {
    "name": "ipython",
    "version": 2
   },
   "file_extension": ".py",
   "mimetype": "text/x-python",
   "name": "python",
   "nbconvert_exporter": "python",
   "pygments_lexer": "ipython2",
   "version": "2.7.12"
  }
 },
 "nbformat": 4,
 "nbformat_minor": 1
}
