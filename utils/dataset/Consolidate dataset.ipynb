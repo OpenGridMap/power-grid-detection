{
 "cells": [
  {
   "cell_type": "code",
   "execution_count": 1,
   "metadata": {
    "collapsed": true
   },
   "outputs": [],
   "source": [
    "import numpy as np\n",
    "import os\n",
    "import matplotlib.pyplot as plt\n",
    "\n",
    "from skimage import io\n",
    "from glob import iglob\n",
    "\n",
    "# io.use_plugin('matplotlib')\n",
    "\n",
    "import sys\n",
    "sys.path.append(\"/home/tanuj/Workspace/power-grid-detection\")\n",
    "\n",
    "import config"
   ]
  },
  {
   "cell_type": "code",
   "execution_count": 7,
   "metadata": {
    "collapsed": false
   },
   "outputs": [
    {
     "name": "stdout",
     "output_type": "stream",
     "text": [
      "(256, 256)\n",
      "tuple index out of range\n",
      "(256, 256)\n",
      "tuple index out of range\n",
      "(256, 256)\n",
      "tuple index out of range\n",
      "(256, 256)\n",
      "tuple index out of range\n",
      "(256, 256)\n",
      "tuple index out of range\n",
      "(256, 256)\n",
      "tuple index out of range\n",
      "(256, 256)\n",
      "tuple index out of range\n",
      "(256, 256)\n",
      "tuple index out of range\n",
      "((29992, 196608), (29992,))\n"
     ]
    }
   ],
   "source": [
    "images = []\n",
    "targets = []\n",
    "\n",
    "pathname = os.path.join(config.positive_samples_dir, '256')\n",
    "\n",
    "for im in iglob(os.path.abspath(pathname) + '/*.jpg'):\n",
    "    img = io.imread(im)\n",
    "    try:\n",
    "        img = img.reshape((img.shape[0] * img.shape[1] * img.shape[2], ))\n",
    "        \n",
    "        images.append(img)\n",
    "        targets.append(1)\n",
    "    except IndexError as e:\n",
    "        print img.shape\n",
    "        print e\n",
    "\n",
    "pathname = os.path.join(config.negative_samples_dir, '256')\n",
    "\n",
    "\n",
    "for im in iglob(os.path.abspath(pathname) + '/*.jpg'):\n",
    "    img = io.imread(im)\n",
    "    try:\n",
    "        img = img.reshape((img.shape[0] * img.shape[1] * img.shape[2], ))\n",
    "                \n",
    "        images.append(img)\n",
    "        targets.append(0)\n",
    "    except IndexError as e:\n",
    "        print img.shape\n",
    "        print e\n",
    "    finally:\n",
    "        del img\n",
    "\n",
    "images = np.array(images)\n",
    "targets = np.array(targets)\n",
    "\n",
    "print(images.shape, targets.shape)"
   ]
  },
  {
   "cell_type": "code",
   "execution_count": 8,
   "metadata": {
    "collapsed": true
   },
   "outputs": [],
   "source": [
    "dataset = images, targets"
   ]
  },
  {
   "cell_type": "code",
   "execution_count": 4,
   "metadata": {
    "collapsed": false
   },
   "outputs": [],
   "source": [
    "p = os.path.join(config.dataset_dir, '256.pkl')\n",
    "f = open(p, 'w')"
   ]
  },
  {
   "cell_type": "code",
   "execution_count": 5,
   "metadata": {
    "collapsed": true
   },
   "outputs": [],
   "source": [
    "import cPickle"
   ]
  },
  {
   "cell_type": "code",
   "execution_count": 6,
   "metadata": {
    "collapsed": false
   },
   "outputs": [],
   "source": [
    "cPickle.dump(dataset, f)\n",
    "f.close()"
   ]
  },
  {
   "cell_type": "code",
   "execution_count": 9,
   "metadata": {
    "collapsed": true
   },
   "outputs": [],
   "source": [
    "import h5py"
   ]
  },
  {
   "cell_type": "code",
   "execution_count": 13,
   "metadata": {
    "collapsed": true
   },
   "outputs": [],
   "source": [
    "p = os.path.join(config.dataset_dir, '256.hdf5')\n",
    "f = h5py.File(p, \"w\")"
   ]
  },
  {
   "cell_type": "code",
   "execution_count": 14,
   "metadata": {
    "collapsed": false
   },
   "outputs": [],
   "source": [
    "dset = f.create_dataset(\"mydataset\", data=images)"
   ]
  },
  {
   "cell_type": "code",
   "execution_count": null,
   "metadata": {
    "collapsed": true
   },
   "outputs": [],
   "source": [
    ""
   ]
  }
 ],
 "metadata": {
  "anaconda-cloud": {},
  "kernelspec": {
   "display_name": "Python [conda env:py27]",
   "language": "python",
   "name": "conda-env-py27-py"
  },
  "language_info": {
   "codemirror_mode": {
    "name": "ipython",
    "version": 2.0
   },
   "file_extension": ".py",
   "mimetype": "text/x-python",
   "name": "python",
   "nbconvert_exporter": "python",
   "pygments_lexer": "ipython2",
   "version": "2.7.12"
  }
 },
 "nbformat": 4,
 "nbformat_minor": 0
}