{
 "cells": [
  {
   "cell_type": "code",
   "execution_count": 1,
   "metadata": {
    "collapsed": true
   },
   "outputs": [],
   "source": [
    "import numpy as np\n",
    "import os\n",
    "import matplotlib.pyplot as plt\n",
    "\n",
    "from skimage import io\n",
    "from glob import iglob\n",
    "\n",
    "# io.use_plugin('matplotlib')\n",
    "\n",
    "import sys\n",
    "sys.path.append(\"/home/tanuj/Workspace/power-grid-detection\")\n",
    "\n",
    "import config"
   ]
  },
  {
   "cell_type": "code",
   "execution_count": 2,
   "metadata": {
    "collapsed": false
   },
   "outputs": [
    {
     "name": "stdout",
     "output_type": "stream",
     "text": [
      "(15000, 196608)\n"
     ]
    }
   ],
   "source": [
    "# import dataset_creator"
   ]
  },
  {
   "cell_type": "code",
   "execution_count": 3,
   "metadata": {
    "collapsed": false
   },
   "outputs": [
    {
     "data": {
      "text/plain": [
       "array([[ 67, 100,  79, ...,  64,  93,  73],\n",
       "       [123, 121, 124, ..., 120, 123, 116],\n",
       "       [153, 167, 167, ..., 116, 133, 117],\n",
       "       ..., \n",
       "       [ 55,  67,  47, ...,   8,  32,  19],\n",
       "       [ 69,  64,  70, ...,  98,  87,  91],\n",
       "       [ 71,  71,  61, ...,  54,  54,  54]], dtype=uint8)"
      ]
     },
     "execution_count": 3,
     "metadata": {},
     "output_type": "execute_result"
    }
   ],
   "source": [
    "# dataset_creator.images"
   ]
  },
  {
   "cell_type": "code",
   "execution_count": 4,
   "metadata": {
    "collapsed": false
   },
   "outputs": [
    {
     "data": {
      "text/plain": [
       "array([[ 67, 123, 153, ...,  55,  69,  71],\n",
       "       [100, 121, 167, ...,  67,  64,  71],\n",
       "       [ 79, 124, 167, ...,  47,  70,  61],\n",
       "       ..., \n",
       "       [ 64, 120, 116, ...,   8,  98,  54],\n",
       "       [ 93, 123, 133, ...,  32,  87,  54],\n",
       "       [ 73, 116, 117, ...,  19,  91,  54]], dtype=uint8)"
      ]
     },
     "execution_count": 4,
     "metadata": {},
     "output_type": "execute_result"
    }
   ],
   "source": [
    "# dataset_creator.images.T"
   ]
  },
  {
   "cell_type": "code",
   "execution_count": 11,
   "metadata": {
    "collapsed": false
   },
   "outputs": [
    {
     "name": "stdout",
     "output_type": "stream",
     "text": [
      "(256, 256)\n",
      "tuple index out of range\n",
      "(256, 256)\n",
      "tuple index out of range\n",
      "(256, 256)\n",
      "tuple index out of range\n",
      "(256, 256)\n",
      "tuple index out of range\n",
      "(256, 256)\n",
      "tuple index out of range\n",
      "(256, 256)\n",
      "tuple index out of range\n",
      "(256, 256)\n",
      "tuple index out of range\n",
      "(256, 256)\n",
      "tuple index out of range\n",
      "((29992, 196608), (29992,))\n"
     ]
    }
   ],
   "source": [
    "images = []\n",
    "targets = []\n",
    "\n",
    "pathname = os.path.join(config.positive_samples_dir, '256')\n",
    "\n",
    "for im in iglob(os.path.abspath(pathname) + '/*.jpg'):\n",
    "    img = io.imread(im)\n",
    "    try:\n",
    "        img = img.reshape((img.shape[0] * img.shape[1] * img.shape[2], ))\n",
    "        \n",
    "        images.append(img)\n",
    "        targets.append(1)\n",
    "    except IndexError as e:\n",
    "        print img.shape\n",
    "        print e\n",
    "\n",
    "pathname = os.path.join(config.negative_samples_dir, '256')\n",
    "\n",
    "\n",
    "for im in iglob(os.path.abspath(pathname) + '/*.jpg'):\n",
    "    img = io.imread(im)\n",
    "    try:\n",
    "        img = img.reshape((img.shape[0] * img.shape[1] * img.shape[2], ))\n",
    "                \n",
    "        images.append(img)\n",
    "        targets.append(0)\n",
    "    except IndexError as e:\n",
    "        print img.shape\n",
    "        print e\n",
    "\n",
    "images = np.array(images)\n",
    "targets = np.array(targets)\n",
    "\n",
    "print(images.shape, targets.shape)"
   ]
  },
  {
   "cell_type": "code",
   "execution_count": 18,
   "metadata": {
    "collapsed": true
   },
   "outputs": [],
   "source": [
    "dataset = images, targets"
   ]
  },
  {
   "cell_type": "code",
   "execution_count": 14,
   "metadata": {
    "collapsed": false
   },
   "outputs": [
    {
     "data": {
      "text/plain": [
       "(29992, 196608)"
      ]
     },
     "execution_count": 14,
     "metadata": {},
     "output_type": "execute_result"
    }
   ],
   "source": [
    "images.shape"
   ]
  },
  {
   "cell_type": "code",
   "execution_count": 15,
   "metadata": {
    "collapsed": false,
    "scrolled": true
   },
   "outputs": [
    {
     "data": {
      "text/plain": [
       "(29992,)"
      ]
     },
     "execution_count": 15,
     "metadata": {},
     "output_type": "execute_result"
    }
   ],
   "source": [
    "targets.shape"
   ]
  },
  {
   "cell_type": "code",
   "execution_count": 20,
   "metadata": {
    "collapsed": false
   },
   "outputs": [],
   "source": [
    "p = os.path.join(config.dataset_dir, '256.pkl')\n",
    "f = open(p, 'w')"
   ]
  },
  {
   "cell_type": "code",
   "execution_count": 17,
   "metadata": {
    "collapsed": true
   },
   "outputs": [],
   "source": [
    "import cPickle"
   ]
  },
  {
   "cell_type": "code",
   "execution_count": 22,
   "metadata": {
    "collapsed": false
   },
   "outputs": [
    {
     "ename": "MemoryError",
     "evalue": "",
     "output_type": "error",
     "traceback": [
      "\u001b[0;31m---------------------------------------------------------------------------\u001b[0m",
      "\u001b[0;31mMemoryError\u001b[0m                               Traceback (most recent call last)",
      "\u001b[0;32m<ipython-input-22-47c64500f447>\u001b[0m in \u001b[0;36m<module>\u001b[0;34m()\u001b[0m\n\u001b[0;32m----> 1\u001b[0;31m \u001b[0mcPickle\u001b[0m\u001b[0;34m.\u001b[0m\u001b[0mdump\u001b[0m\u001b[0;34m(\u001b[0m\u001b[0mdataset\u001b[0m\u001b[0;34m,\u001b[0m \u001b[0mf\u001b[0m\u001b[0;34m)\u001b[0m\u001b[0;34m\u001b[0m\u001b[0m\n\u001b[0m\u001b[1;32m      2\u001b[0m \u001b[0mf\u001b[0m\u001b[0;34m.\u001b[0m\u001b[0mclose\u001b[0m\u001b[0;34m(\u001b[0m\u001b[0;34m)\u001b[0m\u001b[0;34m\u001b[0m\u001b[0m\n",
      "\u001b[0;31mMemoryError\u001b[0m: "
     ]
    }
   ],
   "source": [
    "cPickle.dump(dataset, f)\n",
    "f.close()"
   ]
  }
 ],
 "metadata": {
  "anaconda-cloud": {},
  "kernelspec": {
   "display_name": "Python [conda env:py27]",
   "language": "python",
   "name": "conda-env-py27-py"
  },
  "language_info": {
   "codemirror_mode": {
    "name": "ipython",
    "version": 2
   },
   "file_extension": ".py",
   "mimetype": "text/x-python",
   "name": "python",
   "nbconvert_exporter": "python",
   "pygments_lexer": "ipython2",
   "version": "2.7.12"
  }
 },
 "nbformat": 4,
 "nbformat_minor": 1
}
